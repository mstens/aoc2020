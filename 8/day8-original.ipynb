{
 "cells": [
  {
   "cell_type": "code",
   "execution_count": 1,
   "metadata": {},
   "outputs": [],
   "source": [
    "from copy import deepcopy"
   ]
  },
  {
   "cell_type": "code",
   "execution_count": 2,
   "metadata": {},
   "outputs": [],
   "source": [
    "with open(\"day8-1.txt\", \"r\") as f:\n",
    "    data = f.read().split(\"\\n\")\n",
    "data = [e.split(\" \") for e in data]\n",
    "data = [[a, int(b)] for a,b in data]"
   ]
  },
  {
   "cell_type": "code",
   "execution_count": 3,
   "metadata": {},
   "outputs": [
    {
     "name": "stdout",
     "output_type": "stream",
     "text": [
      "1782\n"
     ]
    }
   ],
   "source": [
    "visited = [False]*len(data)\n",
    "i, acc = 0, 0\n",
    "while True:\n",
    "    if visited[i]:\n",
    "        print(acc)\n",
    "        break\n",
    "    else:\n",
    "        visited[i] = True\n",
    "        s, n = data[i]\n",
    "        if s == \"acc\":\n",
    "            acc += n\n",
    "            i += 1\n",
    "        elif s == \"jmp\":\n",
    "            i += n\n",
    "        else:\n",
    "            i += 1"
   ]
  },
  {
   "cell_type": "code",
   "execution_count": 4,
   "metadata": {},
   "outputs": [],
   "source": [
    "def terminates(d):\n",
    "    visited = [False]*len(d)\n",
    "    i, acc = 0, 0\n",
    "    while i < len(d):\n",
    "        if visited[i]:\n",
    "            return False\n",
    "        else:\n",
    "            visited[i] = True\n",
    "            s, n = d[i]\n",
    "            if s == \"acc\":\n",
    "                acc += n\n",
    "                i += 1\n",
    "            elif s == \"jmp\":\n",
    "                i += n\n",
    "            else:\n",
    "                i += 1\n",
    "    return acc"
   ]
  },
  {
   "cell_type": "code",
   "execution_count": 5,
   "metadata": {},
   "outputs": [
    {
     "name": "stdout",
     "output_type": "stream",
     "text": [
      "797\n"
     ]
    }
   ],
   "source": [
    "for i in range(len(data)):\n",
    "    cpy = deepcopy(data)\n",
    "    if data[i][0] == \"jmp\":\n",
    "        cpy[i][0] = \"nop\"\n",
    "        if terminates(cpy):\n",
    "            print(terminates(cpy))\n",
    "    elif data[i][0] == \"nop\":\n",
    "        cpy[i][0] = \"jmp\"\n",
    "        if terminates(cpy):\n",
    "            print(terminates(cpy))"
   ]
  }
 ],
 "metadata": {
  "kernelspec": {
   "display_name": "Python 3",
   "language": "python",
   "name": "python3"
  },
  "language_info": {
   "codemirror_mode": {
    "name": "ipython",
    "version": 3
   },
   "file_extension": ".py",
   "mimetype": "text/x-python",
   "name": "python",
   "nbconvert_exporter": "python",
   "pygments_lexer": "ipython3",
   "version": "3.8.3"
  }
 },
 "nbformat": 4,
 "nbformat_minor": 4
}
