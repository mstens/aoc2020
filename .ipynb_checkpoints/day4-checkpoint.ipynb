{
 "cells": [
  {
   "cell_type": "code",
   "execution_count": 69,
   "metadata": {},
   "outputs": [
    {
     "name": "stdout",
     "output_type": "stream",
     "text": [
      "256\n"
     ]
    }
   ],
   "source": [
    "out = 0\n",
    "\n",
    "must_have = [\"byr\", \"iyr\", \"eyr\", \"hgt\", \"hcl\", \"ecl\", \"pid\"]#, \"cid\"]\n",
    "\n",
    "with open(\"day4-1.txt\", \"r\") as f:\n",
    "    current = []\n",
    "    for line in f:\n",
    "        if line == \"\\n\":\n",
    "            if all([e in current for e in must_have]):\n",
    "                out += 1\n",
    "            current = []\n",
    "        else:\n",
    "            new_keys = [k[:3] for k in line.split(\" \")]\n",
    "            current += new_keys\n",
    "\n",
    "print(out)"
   ]
  },
  {
   "cell_type": "code",
   "execution_count": 70,
   "metadata": {},
   "outputs": [],
   "source": [
    "# 14:44"
   ]
  },
  {
   "cell_type": "code",
   "execution_count": 71,
   "metadata": {},
   "outputs": [],
   "source": [
    "def is_valid(key, val):\n",
    "    if key == \"byr\":\n",
    "        return 1920 <= int(val) <= 2002\n",
    "    if key == \"iyr\":\n",
    "        return 2010 <= int(val) <= 2020\n",
    "    if key == \"eyr\":\n",
    "        return 2020 <= int(val) <= 2030\n",
    "    if key == \"hgt\":\n",
    "        if val[-2:] == \"cm\":\n",
    "            return 150 <= int(val[:-2]) <= 193\n",
    "        elif val[-2:] == \"in\":\n",
    "            return 59 <= int(val[:-2]) <= 76\n",
    "        else:\n",
    "            return False\n",
    "    if key == \"hcl\":\n",
    "        if val[0] == \"#\":\n",
    "            return all([ord(c) in list(range(ord(\"0\"), ord(\"9\")+1))+list(range(ord('a'), ord('f')+1)) for c in val[1:]])\n",
    "        else:\n",
    "            return False\n",
    "    if key == \"ecl\":\n",
    "        valid = [\"amb\", \"blu\", \"brn\", \"gry\", \"grn\", \"hzl\", \"oth\"]\n",
    "        for c in valid:\n",
    "            if c == val:\n",
    "                return True\n",
    "        return False\n",
    "    if key == \"pid\":\n",
    "        return len(val) == 9 and 0 <= int(val) <= 999999999"
   ]
  },
  {
   "cell_type": "code",
   "execution_count": 72,
   "metadata": {},
   "outputs": [
    {
     "name": "stdout",
     "output_type": "stream",
     "text": [
      "198\n"
     ]
    }
   ],
   "source": [
    "out = 0\n",
    "\n",
    "must_have = [\"byr\", \"iyr\", \"eyr\", \"hgt\", \"hcl\", \"ecl\", \"pid\"]#, \"cid\"]\n",
    "\n",
    "with open(\"day4-1.txt\", \"r\") as f:\n",
    "    current = []\n",
    "    for line in f:\n",
    "        if line == \"\\n\":\n",
    "            if all([e in current for e in must_have]):\n",
    "                out += 1\n",
    "            current = []\n",
    "        else:\n",
    "            key_vals = [k.split(\":\") for k in line[:-1].split(\" \")]\n",
    "            for pair in key_vals:\n",
    "                k, v = pair\n",
    "                if is_valid(k, v):\n",
    "                    current += [k]\n",
    "\n",
    "print(out)"
   ]
  },
  {
   "cell_type": "code",
   "execution_count": 73,
   "metadata": {},
   "outputs": [],
   "source": [
    "#17:24"
   ]
  }
 ],
 "metadata": {
  "kernelspec": {
   "display_name": "Python 3",
   "language": "python",
   "name": "python3"
  },
  "language_info": {
   "codemirror_mode": {
    "name": "ipython",
    "version": 3
   },
   "file_extension": ".py",
   "mimetype": "text/x-python",
   "name": "python",
   "nbconvert_exporter": "python",
   "pygments_lexer": "ipython3",
   "version": "3.8.3"
  }
 },
 "nbformat": 4,
 "nbformat_minor": 4
}
