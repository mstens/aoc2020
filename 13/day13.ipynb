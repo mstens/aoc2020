{
 "cells": [
  {
   "cell_type": "code",
   "execution_count": 1,
   "metadata": {},
   "outputs": [],
   "source": [
    "from functools import reduce\n",
    "import math"
   ]
  },
  {
   "cell_type": "code",
   "execution_count": 2,
   "metadata": {},
   "outputs": [
    {
     "data": {
      "text/plain": [
       "([19, 41, 37, 787, 13, 23, 29, 571, 17],\n",
       " [0, -9, -13, -19, -32, -42, -48, -50, -67])"
      ]
     },
     "execution_count": 2,
     "metadata": {},
     "output_type": "execute_result"
    }
   ],
   "source": [
    "with open(\"day13-1.txt\", \"r\") as f:\n",
    "    data = f.read().split(\"\\n\")\n",
    "arrival = int(data[0])\n",
    "bus_times = [int(t) for t in data[1].split(\",\") if t != 'x']\n",
    "diffs = [-i for i, t in enumerate(data[1].split(\",\")) if t != 'x']\n",
    "bus_times, diffs"
   ]
  },
  {
   "cell_type": "code",
   "execution_count": 3,
   "metadata": {},
   "outputs": [
    {
     "data": {
      "text/plain": [
       "3997"
      ]
     },
     "execution_count": 3,
     "metadata": {},
     "output_type": "execute_result"
    }
   ],
   "source": [
    "min_wait = min([(t - (arrival%t), t) for t in bus_times])\n",
    "math.prod(min_wait)"
   ]
  },
  {
   "cell_type": "code",
   "execution_count": 4,
   "metadata": {},
   "outputs": [
    {
     "data": {
      "text/plain": [
       "(1909273434898297, 500033211739354)"
      ]
     },
     "execution_count": 4,
     "metadata": {},
     "output_type": "execute_result"
    }
   ],
   "source": [
    "def CRT2(pair1, pair2):\n",
    "    p, a, q, b = *pair1, *pair2\n",
    "    for k in range(q):\n",
    "        if (k*p + a -b)%q == 0:\n",
    "            return p*q, k*p+a\n",
    "\n",
    "reduce(CRT2, zip(bus_times, diffs))"
   ]
  },
  {
   "cell_type": "code",
   "execution_count": 5,
   "metadata": {},
   "outputs": [],
   "source": [
    "# CRT finds x such that\n",
    "#    x=a mod p,\n",
    "#    x=b mod q\n",
    "# where pair1=(p, a), pair2=(q, b),\n",
    "# and returns p*q, x"
   ]
  }
 ],
 "metadata": {
  "kernelspec": {
   "display_name": "Python 3",
   "language": "python",
   "name": "python3"
  },
  "language_info": {
   "codemirror_mode": {
    "name": "ipython",
    "version": 3
   },
   "file_extension": ".py",
   "mimetype": "text/x-python",
   "name": "python",
   "nbconvert_exporter": "python",
   "pygments_lexer": "ipython3",
   "version": "3.8.3"
  }
 },
 "nbformat": 4,
 "nbformat_minor": 4
}
