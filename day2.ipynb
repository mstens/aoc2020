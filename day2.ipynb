{
 "cells": [
  {
   "cell_type": "code",
   "execution_count": 22,
   "metadata": {},
   "outputs": [
    {
     "name": "stdout",
     "output_type": "stream",
     "text": [
      "614\n"
     ]
    }
   ],
   "source": [
    "with open(\"day2-1.txt\", \"r\") as f:\n",
    "    data = [e.split(\" \") for e in f.read().split(\"\\n\")]\n",
    "#     print(data)\n",
    "    \n",
    "valid = 0\n",
    "for e in data:\n",
    "    a, b = [int(_) for _ in e[0].split(\"-\")]\n",
    "    c = e[1][0]\n",
    "    pwd = e[2]\n",
    "    res = sum(int(ch == c) for ch in pwd)\n",
    "    if a <= res <= b:\n",
    "        valid += 1\n",
    "        \n",
    "print(valid)"
   ]
  },
  {
   "cell_type": "code",
   "execution_count": 26,
   "metadata": {},
   "outputs": [
    {
     "name": "stdout",
     "output_type": "stream",
     "text": [
      "354\n"
     ]
    }
   ],
   "source": [
    "valid = 0\n",
    "for e in data:\n",
    "    a, b = [int(_) for _ in e[0].split(\"-\")]\n",
    "    c = e[1][0]\n",
    "    pwd = e[2]\n",
    "    res = int(pwd[a-1] == c) + int(pwd[b-1] == c)\n",
    "    if res == 1:\n",
    "        valid += 1\n",
    "        \n",
    "print(valid)"
   ]
  }
 ],
 "metadata": {
  "kernelspec": {
   "display_name": "Python 3",
   "language": "python",
   "name": "python3"
  },
  "language_info": {
   "codemirror_mode": {
    "name": "ipython",
    "version": 3
   },
   "file_extension": ".py",
   "mimetype": "text/x-python",
   "name": "python",
   "nbconvert_exporter": "python",
   "pygments_lexer": "ipython3",
   "version": "3.8.3"
  }
 },
 "nbformat": 4,
 "nbformat_minor": 4
}
