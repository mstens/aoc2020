{
 "cells": [
  {
   "cell_type": "code",
   "execution_count": 9,
   "metadata": {},
   "outputs": [
    {
     "name": "stdout",
     "output_type": "stream",
     "text": [
      "True\n"
     ]
    }
   ],
   "source": [
    "with open(\"day1-1.txt\", \"r\") as f:\n",
    "    data = [int(_) for _ in f.read().split(\"\\n\")]\n",
    "# data\n",
    "print(all([e > 0 for e in data]))"
   ]
  },
  {
   "cell_type": "code",
   "execution_count": 7,
   "metadata": {},
   "outputs": [
    {
     "name": "stdout",
     "output_type": "stream",
     "text": [
      "936 1084 1014624\n"
     ]
    }
   ],
   "source": [
    "# lots of mem but is O(n)\n",
    "visited = [False]*2021\n",
    "for n in data:\n",
    "    if visited[2020-n]:\n",
    "        print(n, 2020-n, n*(2020-n))\n",
    "        break\n",
    "    else:\n",
    "        visited[n] = True"
   ]
  },
  {
   "cell_type": "code",
   "execution_count": 15,
   "metadata": {},
   "outputs": [
    {
     "name": "stdout",
     "output_type": "stream",
     "text": [
      "704 93 1223 80072256\n"
     ]
    }
   ],
   "source": [
    "import math\n",
    "\n",
    "def forbidden_2sum(forbidden, target, l=data):\n",
    "    visited = [False]*2021\n",
    "    for n in data:\n",
    "        if n == forbidden:\n",
    "            continue\n",
    "        if target-n >= 0 and visited[target-n]:\n",
    "            return n, target - n\n",
    "            break\n",
    "        else:\n",
    "            visited[n] = True\n",
    "    return None\n",
    "\n",
    "for n in data:\n",
    "    res = forbidden_2sum(n, 2020-n)\n",
    "    if res is not None:\n",
    "        print(n, *res, n*math.prod(res))\n",
    "        break"
   ]
  }
 ],
 "metadata": {
  "kernelspec": {
   "display_name": "Python 3",
   "language": "python",
   "name": "python3"
  },
  "language_info": {
   "codemirror_mode": {
    "name": "ipython",
    "version": 3
   },
   "file_extension": ".py",
   "mimetype": "text/x-python",
   "name": "python",
   "nbconvert_exporter": "python",
   "pygments_lexer": "ipython3",
   "version": "3.8.3"
  }
 },
 "nbformat": 4,
 "nbformat_minor": 4
}
