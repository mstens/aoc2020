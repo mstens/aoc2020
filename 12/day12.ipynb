{
 "cells": [
  {
   "cell_type": "code",
   "execution_count": 1,
   "metadata": {},
   "outputs": [],
   "source": [
    "import numpy as np\n",
    "import math\n",
    "from copy import deepcopy"
   ]
  },
  {
   "cell_type": "code",
   "execution_count": 25,
   "metadata": {},
   "outputs": [
    {
     "data": {
      "text/plain": [
       "[('F', 10), ('N', 3), ('F', 7), ('R', 90), ('F', 11)]"
      ]
     },
     "execution_count": 25,
     "metadata": {},
     "output_type": "execute_result"
    }
   ],
   "source": [
    "with open(\"day12-t.txt\", \"r\") as ft:\n",
    "    test = ft.read().split(\"\\n\")\n",
    "test = [(s, int(\"\".join(n))) for s, *n in test]\n",
    "test"
   ]
  },
  {
   "cell_type": "code",
   "execution_count": 79,
   "metadata": {},
   "outputs": [],
   "source": [
    "with open(\"day12-1.txt\", \"r\") as f:\n",
    "    data = f.read().split(\"\\n\")\n",
    "data = [(s, int(\"\".join(n))) for s, *n in data]"
   ]
  },
  {
   "cell_type": "code",
   "execution_count": 85,
   "metadata": {},
   "outputs": [],
   "source": [
    "def tl(d, n):\n",
    "    while n:\n",
    "        n -= 1\n",
    "        if d[0] != 0:\n",
    "            d = np.array([0, d[0]])\n",
    "        else:\n",
    "            d = np.array([-d[1], 0])\n",
    "    return d\n",
    "\n",
    "def tr(d, n):\n",
    "    while n:\n",
    "        n -= 1\n",
    "        if d[0] != 0:\n",
    "            d = np.array([0, -d[0]])\n",
    "        else:\n",
    "            d = np.array([d[1], 0])\n",
    "    return d\n",
    "\n",
    "def nwes(s):\n",
    "    if s == \"N\":\n",
    "        out = [0, 1]\n",
    "    elif s == \"S\":\n",
    "        out = [0, -1]\n",
    "    elif s == \"W\":\n",
    "        out = [-1, 0]\n",
    "    elif s == \"E\":\n",
    "        out = [1, 0]\n",
    "    return np.array(out)"
   ]
  },
  {
   "cell_type": "code",
   "execution_count": 86,
   "metadata": {},
   "outputs": [
    {
     "name": "stdout",
     "output_type": "stream",
     "text": [
      "[-312  129]\n",
      "441\n"
     ]
    }
   ],
   "source": [
    "direction = np.array([1, 0])\n",
    "pos = np.array([0, 0])\n",
    "for x, n in data:\n",
    "    if x in \"NWES\":\n",
    "        pos += nwes(x)*n\n",
    "    elif x == \"F\":\n",
    "        pos += direction*n\n",
    "    elif x == \"L\":\n",
    "        assert n % 90 == 0\n",
    "        direction = tl(direction, n/90)\n",
    "    elif x == \"R\":\n",
    "        assert n % 90 == 0\n",
    "        direction = tr(direction, n/90)\n",
    "print(pos)\n",
    "print(sum(np.abs(pos)))"
   ]
  },
  {
   "cell_type": "code",
   "execution_count": 87,
   "metadata": {},
   "outputs": [
    {
     "name": "stdout",
     "output_type": "stream",
     "text": [
      "40014\n"
     ]
    }
   ],
   "source": [
    "wp = np.array([10, 1])\n",
    "pos = [0, 0]\n",
    "for x, n in data:\n",
    "    if x in \"NWES\":\n",
    "        wp += nwes(x)*n\n",
    "    elif x == \"F\":\n",
    "        pos += n*wp\n",
    "    elif x == \"L\":\n",
    "        wp = tl(np.array([wp[0], 0]), n/90) + tl(np.array([0, wp[1]]), n/90)\n",
    "    elif x == \"R\":\n",
    "        wp = tr(np.array([wp[0], 0]), n/90) + tr(np.array([0, wp[1]]), n/90)\n",
    "        \n",
    "print(sum(np.abs(pos)))"
   ]
  },
  {
   "cell_type": "code",
   "execution_count": null,
   "metadata": {},
   "outputs": [],
   "source": []
  }
 ],
 "metadata": {
  "kernelspec": {
   "display_name": "Python 3",
   "language": "python",
   "name": "python3"
  },
  "language_info": {
   "codemirror_mode": {
    "name": "ipython",
    "version": 3
   },
   "file_extension": ".py",
   "mimetype": "text/x-python",
   "name": "python",
   "nbconvert_exporter": "python",
   "pygments_lexer": "ipython3",
   "version": "3.8.3"
  }
 },
 "nbformat": 4,
 "nbformat_minor": 4
}
