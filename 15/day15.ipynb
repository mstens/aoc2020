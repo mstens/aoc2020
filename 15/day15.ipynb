{
 "cells": [
  {
   "cell_type": "code",
   "execution_count": 1,
   "metadata": {},
   "outputs": [],
   "source": [
    "with open(\"day15-1.txt\", \"r\") as f:\n",
    "    data = [int(a) for a in f.read().split(\",\")]"
   ]
  },
  {
   "cell_type": "code",
   "execution_count": 3,
   "metadata": {},
   "outputs": [
    {
     "name": "stdout",
     "output_type": "stream",
     "text": [
      "110871\n"
     ]
    }
   ],
   "source": [
    "mem = {n: i+1 for i, n in enumerate(data[:-1])}\n",
    "last = data[-1]\n",
    "for t in range(len(data), 30000000):\n",
    "    if last in mem:\n",
    "        last_time = mem[last]\n",
    "        mem[last] = t\n",
    "        last = t - last_time\n",
    "    else:\n",
    "        mem[last] = t\n",
    "        last = 0\n",
    "print(last)"
   ]
  }
 ],
 "metadata": {
  "kernelspec": {
   "display_name": "Python 3",
   "language": "python",
   "name": "python3"
  },
  "language_info": {
   "codemirror_mode": {
    "name": "ipython",
    "version": 3
   },
   "file_extension": ".py",
   "mimetype": "text/x-python",
   "name": "python",
   "nbconvert_exporter": "python",
   "pygments_lexer": "ipython3",
   "version": "3.8.3"
  }
 },
 "nbformat": 4,
 "nbformat_minor": 4
}
