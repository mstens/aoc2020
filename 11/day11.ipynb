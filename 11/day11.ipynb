{
 "cells": [
  {
   "cell_type": "code",
   "execution_count": 1,
   "metadata": {},
   "outputs": [],
   "source": [
    "from copy import deepcopy"
   ]
  },
  {
   "cell_type": "code",
   "execution_count": 2,
   "metadata": {},
   "outputs": [],
   "source": [
    "with open(\"day11-1.txt\", \"r\") as f:\n",
    "    data = [list(s) for s in f.read().split(\"\\n\")]"
   ]
  },
  {
   "cell_type": "code",
   "execution_count": 3,
   "metadata": {},
   "outputs": [],
   "source": [
    "def neighbours(i, j, r, c, d):\n",
    "    out = [d[i+a][j+b] for a in [-1, 0, 1] for b in [-1, 0, 1] if 0 <= i+a < r and 0 <= j+b < c and not a==b==0]\n",
    "    return out\n",
    "\n",
    "def new_seat(s, n):\n",
    "    if s == \"L\" and all([seat != \"#\" for seat in n]):\n",
    "            return \"#\"\n",
    "    if s == \"#\" and sum([seat == \"#\" for seat in n]) >= 4:\n",
    "            return \"L\"\n",
    "    return s"
   ]
  },
  {
   "cell_type": "code",
   "execution_count": 4,
   "metadata": {},
   "outputs": [
    {
     "name": "stdout",
     "output_type": "stream",
     "text": [
      "Broke! 919\n",
      "2204\n"
     ]
    }
   ],
   "source": [
    "last = deepcopy(data)\n",
    "current = deepcopy(data)\n",
    "imax = 1000\n",
    "r, c = len(data), len(data[0])\n",
    "while imax:\n",
    "    imax -= 1\n",
    "    for i in range(r):\n",
    "        for j in range(c):\n",
    "            n = neighbours(i, j, r, c, last)\n",
    "            current[i][j] = new_seat(last[i][j], n)\n",
    "    if last == current:\n",
    "        print(\"Broke!\", imax)\n",
    "        break\n",
    "    else:\n",
    "        last, current = current, last\n",
    "          \n",
    "print(sum(row.count(\"#\") for row in current))"
   ]
  },
  {
   "cell_type": "code",
   "execution_count": 5,
   "metadata": {},
   "outputs": [],
   "source": [
    "def neighbours2(i, j, r, c, d):\n",
    "    steps = [(a, b) for a in [-1, 0, 1] for b in [-1, 0, 1] if not a==b==0]\n",
    "    out = []\n",
    "    for x, y in steps:\n",
    "        a, b = i + x, j + y\n",
    "        while 0 <= a < r and 0<= b <c:\n",
    "            if d[a][b] != \".\":\n",
    "                out += d[a][b]\n",
    "                break\n",
    "            a += x\n",
    "            b += y\n",
    "    return out\n",
    "\n",
    "def new_seat2(s, n):\n",
    "    if s == \"L\" and all([seat != \"#\" for seat in n]):\n",
    "            return \"#\"\n",
    "    if s == \"#\" and sum([seat == \"#\" for seat in n]) >= 5:\n",
    "            return \"L\"\n",
    "    return s"
   ]
  },
  {
   "cell_type": "code",
   "execution_count": 6,
   "metadata": {},
   "outputs": [
    {
     "name": "stdout",
     "output_type": "stream",
     "text": [
      "Broke! 914\n",
      "1986\n"
     ]
    }
   ],
   "source": [
    "last = deepcopy(data)\n",
    "current = deepcopy(data)\n",
    "imax = 1000\n",
    "r, c = len(data), len(data[0])\n",
    "while imax:\n",
    "    imax -= 1\n",
    "    for i in range(r):\n",
    "        for j in range(c):\n",
    "            n = neighbours2(i, j, r, c, last)\n",
    "            current[i][j] = new_seat2(last[i][j], n)\n",
    "    if last == current:\n",
    "        print(\"Broke!\", imax)\n",
    "        break\n",
    "    else:\n",
    "        last, current = current, last\n",
    "    \n",
    "print(sum(row.count(\"#\") for row in current))"
   ]
  }
 ],
 "metadata": {
  "kernelspec": {
   "display_name": "Python 3",
   "language": "python",
   "name": "python3"
  },
  "language_info": {
   "codemirror_mode": {
    "name": "ipython",
    "version": 3
   },
   "file_extension": ".py",
   "mimetype": "text/x-python",
   "name": "python",
   "nbconvert_exporter": "python",
   "pygments_lexer": "ipython3",
   "version": "3.8.3"
  }
 },
 "nbformat": 4,
 "nbformat_minor": 4
}
