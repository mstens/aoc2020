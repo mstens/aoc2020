{
 "cells": [
  {
   "cell_type": "code",
   "execution_count": 1,
   "metadata": {},
   "outputs": [],
   "source": [
    "from collections import defaultdict"
   ]
  },
  {
   "cell_type": "code",
   "execution_count": 2,
   "metadata": {},
   "outputs": [],
   "source": [
    "with open(\"day21-1.txt\", \"r\") as f:\n",
    "    data = f.read().split(\"\\n\")\n",
    "lines = [l.split(\" (contains \") for l in data]\n",
    "allergens = [l[1][:-1].split(\", \") for l in lines]\n",
    "foods = [l[0].split(\" \") for l in lines]\n",
    "all_foods = [f for r in foods for f in r]"
   ]
  },
  {
   "cell_type": "code",
   "execution_count": 3,
   "metadata": {},
   "outputs": [],
   "source": [
    "potentials = defaultdict(lambda:set(all_foods))\n",
    "for al, fl in zip(allergens, foods):\n",
    "    for a in al:\n",
    "        potentials[a] = potentials[a].intersection(set(fl))"
   ]
  },
  {
   "cell_type": "code",
   "execution_count": 4,
   "metadata": {},
   "outputs": [
    {
     "data": {
      "text/plain": [
       "2125"
      ]
     },
     "execution_count": 4,
     "metadata": {},
     "output_type": "execute_result"
    }
   ],
   "source": [
    "potential_bad_foods = set(food for food_list in potentials.values() for food in food_list)\n",
    "sum(f not in potential_bad_foods for f in all_foods)"
   ]
  },
  {
   "cell_type": "code",
   "execution_count": 5,
   "metadata": {},
   "outputs": [
    {
     "data": {
      "text/plain": [
       "'phc,spnd,zmsdzh,pdt,fqqcnm,lsgqf,rjc,lzvh'"
      ]
     },
     "execution_count": 5,
     "metadata": {},
     "output_type": "execute_result"
    }
   ],
   "source": [
    "while any(len(v) > 1 for v in potentials.values()):\n",
    "    for key, val in potentials.items():\n",
    "        if len(val) == 1:\n",
    "            potentials = {k: v-val if k != key else v for k, v in potentials.items()}\n",
    "            \n",
    "matched_pairs = {k: next(iter(v)) for k, v in potentials.items()}\n",
    "final = sorted(list(matched_pairs.items()))\n",
    "\",\".join([s[1] for s in final])"
   ]
  }
 ],
 "metadata": {
  "kernelspec": {
   "display_name": "Python 3",
   "language": "python",
   "name": "python3"
  },
  "language_info": {
   "codemirror_mode": {
    "name": "ipython",
    "version": 3
   },
   "file_extension": ".py",
   "mimetype": "text/x-python",
   "name": "python",
   "nbconvert_exporter": "python",
   "pygments_lexer": "ipython3",
   "version": "3.8.3"
  }
 },
 "nbformat": 4,
 "nbformat_minor": 4
}
