{
 "cells": [
  {
   "cell_type": "code",
   "execution_count": 1,
   "metadata": {},
   "outputs": [],
   "source": [
    "import math\n",
    "import numpy as np"
   ]
  },
  {
   "cell_type": "code",
   "execution_count": 137,
   "metadata": {},
   "outputs": [
    {
     "data": {
      "text/plain": [
       "array([[0, 1, 0],\n",
       "       [0, 0, 1],\n",
       "       [1, 1, 1]])"
      ]
     },
     "execution_count": 137,
     "metadata": {},
     "output_type": "execute_result"
    }
   ],
   "source": [
    "with open(\"day17-t.txt\", \"r\") as ft:\n",
    "    test = ft.read().split(\"\\n\")\n",
    "test = [[int(c==\"#\") for c in s] for s in test]\n",
    "test = np.array(test)\n",
    "test"
   ]
  },
  {
   "cell_type": "code",
   "execution_count": 138,
   "metadata": {},
   "outputs": [],
   "source": [
    "data = test"
   ]
  },
  {
   "cell_type": "code",
   "execution_count": 142,
   "metadata": {},
   "outputs": [
    {
     "data": {
      "text/plain": [
       "array([[1, 0, 1, 0, 0, 1, 1, 1],\n",
       "       [0, 1, 0, 0, 0, 0, 1, 1],\n",
       "       [0, 1, 1, 1, 0, 0, 0, 1],\n",
       "       [0, 0, 1, 1, 1, 1, 0, 0],\n",
       "       [0, 0, 0, 0, 1, 1, 1, 0],\n",
       "       [1, 1, 0, 1, 0, 1, 0, 1],\n",
       "       [0, 0, 1, 0, 0, 1, 1, 0],\n",
       "       [1, 0, 0, 0, 0, 0, 1, 1]])"
      ]
     },
     "execution_count": 142,
     "metadata": {},
     "output_type": "execute_result"
    }
   ],
   "source": [
    "with open(\"day17-1.txt\", \"r\") as f:\n",
    "    data = f.read().split(\"\\n\")\n",
    "data = [[int(c==\"#\") for c in s] for s in data]\n",
    "data = np.array(data)\n",
    "data.shape\n",
    "data"
   ]
  },
  {
   "cell_type": "code",
   "execution_count": 143,
   "metadata": {},
   "outputs": [
    {
     "data": {
      "text/plain": [
       "11"
      ]
     },
     "execution_count": 143,
     "metadata": {},
     "output_type": "execute_result"
    }
   ],
   "source": [
    "rounds = 6\n",
    "final_dim = 2*rounds+2+max(data.shape)\n",
    "x,y = data.shape\n",
    "z = final_dim//2\n",
    "z"
   ]
  },
  {
   "cell_type": "code",
   "execution_count": 127,
   "metadata": {},
   "outputs": [],
   "source": [
    "import itertools\n",
    "def active_n(space, i, j, k):\n",
    "    coords =  [np.array([i, j, k]) + np.array(b) for b in itertools.product([-1, 0, 1], repeat=3) if b != (0,0,0)]\n",
    "    n = [space[a,b,c] for a,b,c in coords]\n",
    "    return np.sum(n)"
   ]
  },
  {
   "cell_type": "code",
   "execution_count": 112,
   "metadata": {},
   "outputs": [
    {
     "data": {
      "text/plain": [
       "391"
      ]
     },
     "execution_count": 112,
     "metadata": {},
     "output_type": "execute_result"
    }
   ],
   "source": [
    "from copy import deepcopy\n",
    "space = np.zeros((final_dim, final_dim, final_dim), dtype=int)\n",
    "space[z-x//2:z+x//2 + (1 if x%2 else 0), z-y//2:z+y//2 + (1 if y%2 else 0), z] = data\n",
    "tmp = deepcopy(space)\n",
    "for r in range(rounds):\n",
    "    for a,b,c in itertools.product(range(1,final_dim-1), repeat=3):\n",
    "        n = active_n(space, a,b,c)\n",
    "        if (space[a,b,c] and n in [2,3]) or n == 3:\n",
    "            tmp[a,b,c] = 1\n",
    "        else:\n",
    "            tmp[a,b,c] = 0\n",
    "    space, tmp = tmp, space\n",
    "#     print(f\"after round {r+1}: \")\n",
    "#     print(space[:,:,z])\n",
    "np.sum(space)"
   ]
  },
  {
   "cell_type": "code",
   "execution_count": 144,
   "metadata": {},
   "outputs": [],
   "source": [
    "import itertools\n",
    "def active_n2(space, i, j, k, w):\n",
    "    coords =  [np.array([i, j, k, w]) + np.array(b) for b in itertools.product([-1, 0, 1], repeat=4) if b != (0,0,0,0)]\n",
    "    n = [space[a,b,c,d] for a,b,c,d in coords]\n",
    "    return np.sum(n)"
   ]
  },
  {
   "cell_type": "code",
   "execution_count": 147,
   "metadata": {},
   "outputs": [
    {
     "name": "stdout",
     "output_type": "stream",
     "text": [
      "0\n",
      "1\n",
      "2\n",
      "3\n",
      "4\n",
      "5\n"
     ]
    },
    {
     "data": {
      "text/plain": [
       "2264"
      ]
     },
     "execution_count": 147,
     "metadata": {},
     "output_type": "execute_result"
    }
   ],
   "source": [
    "space = np.zeros((final_dim, final_dim, final_dim, final_dim), dtype=int)\n",
    "space[z-x//2:z+x//2 + (1 if x%2 else 0), z-y//2:z+y//2 + (1 if y%2 else 0), z, z] = data\n",
    "tmp = deepcopy(space)\n",
    "for r in range(rounds):\n",
    "    print(r)\n",
    "    for a,b,c,d in itertools.product(range(1, final_dim-1), repeat=4):\n",
    "        n = active_n2(space, a,b,c, d)\n",
    "        if (space[a,b,c,d] and n in [2,3]) or n == 3:\n",
    "            tmp[a,b,c,d] = 1\n",
    "        else:\n",
    "            tmp[a,b,c,d] = 0\n",
    "    space, tmp = tmp, space\n",
    "np.sum(space)"
   ]
  }
 ],
 "metadata": {
  "kernelspec": {
   "display_name": "Python 3",
   "language": "python",
   "name": "python3"
  },
  "language_info": {
   "codemirror_mode": {
    "name": "ipython",
    "version": 3
   },
   "file_extension": ".py",
   "mimetype": "text/x-python",
   "name": "python",
   "nbconvert_exporter": "python",
   "pygments_lexer": "ipython3",
   "version": "3.8.3"
  }
 },
 "nbformat": 4,
 "nbformat_minor": 4
}
