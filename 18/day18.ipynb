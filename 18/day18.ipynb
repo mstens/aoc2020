{
 "cells": [
  {
   "cell_type": "code",
   "execution_count": 1,
   "metadata": {},
   "outputs": [],
   "source": [
    "with open(\"day18-1.txt\", \"r\") as f:\n",
    "    data = f.read().split(\"\\n\")\n",
    "data = [s.replace(\" \", \"\") for s in data]"
   ]
  },
  {
   "cell_type": "code",
   "execution_count": 2,
   "metadata": {},
   "outputs": [
    {
     "data": {
      "text/plain": [
       "98621258158412"
      ]
     },
     "execution_count": 2,
     "metadata": {},
     "output_type": "execute_result"
    }
   ],
   "source": [
    "def to_groups(l):\n",
    "    groups = []\n",
    "    ops = []\n",
    "    pcount = 0\n",
    "    current = \"\"\n",
    "    for i, c in enumerate(l):\n",
    "        if pcount > 0:\n",
    "            if pcount == 1 and c == \")\":\n",
    "                pcount = 0\n",
    "                groups.append(current)\n",
    "                current = \"\"\n",
    "            else:\n",
    "                current += c\n",
    "                if c == \"(\":\n",
    "                    pcount += 1\n",
    "                elif c == \")\":\n",
    "                    pcount -= 1\n",
    "        else:\n",
    "            if c in \"+*\":\n",
    "                if current:\n",
    "                    groups.append(current)\n",
    "                    current = \"\"\n",
    "                ops.append(c)\n",
    "            elif c == \"(\":\n",
    "                pcount += 1\n",
    "            else:\n",
    "                current += c\n",
    "    if current:\n",
    "        groups.append(current)\n",
    "    return groups, ops\n",
    "\n",
    "def calc_expr(e):\n",
    "    groups, ops = to_groups(e)\n",
    "    if not ops:\n",
    "        assert len(groups) == 1\n",
    "        return int(groups[0])\n",
    "    else:\n",
    "        done_groups = [calc_expr(g) for g in groups]\n",
    "        i = 1\n",
    "        current = done_groups[0]\n",
    "        for o, x in zip(ops, done_groups[1:]):\n",
    "            if o == \"+\":\n",
    "                current += x\n",
    "            else:\n",
    "                current *= x\n",
    "    return current\n",
    "\n",
    "sum([calc_expr(s) for s in data])"
   ]
  },
  {
   "cell_type": "code",
   "execution_count": 3,
   "metadata": {},
   "outputs": [
    {
     "data": {
      "text/plain": [
       "241216538527890"
      ]
     },
     "execution_count": 3,
     "metadata": {},
     "output_type": "execute_result"
    }
   ],
   "source": [
    "def calc_expr2(e):\n",
    "    groups, ops = to_groups(e)\n",
    "    if not ops:\n",
    "        assert len(groups) == 1\n",
    "        return int(groups[0])\n",
    "    else:\n",
    "        done_groups = [calc_expr2(g) for g in groups]\n",
    "        done_prec = []\n",
    "        done_ops = []\n",
    "        current = done_groups[0]\n",
    "        i = 1\n",
    "        for i in range(len(ops)):\n",
    "            if ops[i] == \"*\":\n",
    "                done_prec.append(current)\n",
    "                current = done_groups[i+1]\n",
    "                done_ops.append(\"*\")\n",
    "                \n",
    "            else:\n",
    "                current += done_groups[i+1]\n",
    "        done_prec.append(current)\n",
    "        i = 1\n",
    "        current = done_prec[0]\n",
    "        for o, x in zip(done_ops, done_prec[1:]):\n",
    "            if o == \"+\":\n",
    "                current += x\n",
    "            else:\n",
    "                current *= x\n",
    "    return current\n",
    "\n",
    "sum([calc_expr2(s) for s in data])"
   ]
  }
 ],
 "metadata": {
  "kernelspec": {
   "display_name": "Python 3",
   "language": "python",
   "name": "python3"
  },
  "language_info": {
   "codemirror_mode": {
    "name": "ipython",
    "version": 3
   },
   "file_extension": ".py",
   "mimetype": "text/x-python",
   "name": "python",
   "nbconvert_exporter": "python",
   "pygments_lexer": "ipython3",
   "version": "3.8.3"
  }
 },
 "nbformat": 4,
 "nbformat_minor": 4
}
