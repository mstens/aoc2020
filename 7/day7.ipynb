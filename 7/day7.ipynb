{
 "cells": [
  {
   "cell_type": "code",
   "execution_count": 17,
   "metadata": {},
   "outputs": [],
   "source": [
    "import re\n",
    "def make_int(s):\n",
    "    if s == []:\n",
    "        return []\n",
    "    return [(int(a), b) for a, b in s]"
   ]
  },
  {
   "cell_type": "code",
   "execution_count": 19,
   "metadata": {},
   "outputs": [],
   "source": [
    "with open(\"day7-1.txt\", \"r\") as f:\n",
    "    data = f.read().split(\".\\n\")\n",
    "    \n",
    "bag_names = (re.search(\"\\w+ \\w+\", x).group() for x in data)\n",
    "bag_contains = (make_int(re.findall(\"([0-9]) (\\w+ \\w+)\", x)) for x in data)\n",
    "contents = dict(zip(bag_names, bag_contains))"
   ]
  },
  {
   "cell_type": "code",
   "execution_count": 21,
   "metadata": {},
   "outputs": [
    {
     "name": "stdout",
     "output_type": "stream",
     "text": [
      "252\n"
     ]
    }
   ],
   "source": [
    "good_keys = set([\"shiny gold\"])\n",
    "for i in range(50):\n",
    "    for key, val in contents.items():\n",
    "        if val and set(list(zip(*val))[1]) & good_keys:\n",
    "            good_keys.add(key)\n",
    "print(len(good_keys) - 1)"
   ]
  },
  {
   "cell_type": "code",
   "execution_count": 22,
   "metadata": {},
   "outputs": [
    {
     "name": "stdout",
     "output_type": "stream",
     "text": [
      "35487\n"
     ]
    }
   ],
   "source": [
    "tmp = [(1, \"shiny gold\")]\n",
    "total = 0\n",
    "while tmp:\n",
    "    num, name = tmp.pop()\n",
    "    total += num\n",
    "    for num_, name_ in contents[name]:\n",
    "        tmp.append([num*num_, name_])\n",
    "print(total-1)"
   ]
  }
 ],
 "metadata": {
  "kernelspec": {
   "display_name": "Python 3",
   "language": "python",
   "name": "python3"
  },
  "language_info": {
   "codemirror_mode": {
    "name": "ipython",
    "version": 3
   },
   "file_extension": ".py",
   "mimetype": "text/x-python",
   "name": "python",
   "nbconvert_exporter": "python",
   "pygments_lexer": "ipython3",
   "version": "3.8.3"
  }
 },
 "nbformat": 4,
 "nbformat_minor": 4
}
