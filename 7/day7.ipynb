{
 "cells": [
  {
   "cell_type": "code",
   "execution_count": 1,
   "metadata": {},
   "outputs": [],
   "source": [
    "import re\n",
    "def make_int(s):\n",
    "    if s == []:\n",
    "        return []\n",
    "    return list(map(lambda x: (int(x[0]), x[1]), s))"
   ]
  },
  {
   "cell_type": "code",
   "execution_count": 2,
   "metadata": {},
   "outputs": [],
   "source": [
    "with open(\"day7-1.txt\", \"r\") as f:\n",
    "    data = f.read().split(\".\\n\")\n",
    "    \n",
    "bag_names = map(lambda x: re.search(\"\\w+ \\w+\", x).group(), data)\n",
    "bag_contains = map(lambda x: make_int(re.findall(\"([0-9]) (\\w+ \\w+)\", x)), data)\n",
    "contents = dict(zip(bag_names, bag_contains))"
   ]
  },
  {
   "cell_type": "code",
   "execution_count": 4,
   "metadata": {},
   "outputs": [
    {
     "name": "stdout",
     "output_type": "stream",
     "text": [
      "252\n"
     ]
    }
   ],
   "source": [
    "good_keys = set([\"shiny gold\"])\n",
    "for i in range(50):\n",
    "    for key, val in contents.items():\n",
    "        if not val: continue\n",
    "        if set(list(zip(*val))[1]) & good_keys:\n",
    "            good_keys.add(key)\n",
    "print(len(good_keys) - 1)"
   ]
  },
  {
   "cell_type": "code",
   "execution_count": 5,
   "metadata": {},
   "outputs": [
    {
     "name": "stdout",
     "output_type": "stream",
     "text": [
      "35487\n"
     ]
    }
   ],
   "source": [
    "tmp = [[1, \"shiny gold\"]]\n",
    "total = 0\n",
    "while len(tmp) > 0:\n",
    "    num, name = tmp.pop()\n",
    "    total += num\n",
    "    for num_, name_ in contents[name]:\n",
    "        tmp.append([num*num_, name_])\n",
    "print(total-1)"
   ]
  }
 ],
 "metadata": {
  "kernelspec": {
   "display_name": "Python 3",
   "language": "python",
   "name": "python3"
  },
  "language_info": {
   "codemirror_mode": {
    "name": "ipython",
    "version": 3
   },
   "file_extension": ".py",
   "mimetype": "text/x-python",
   "name": "python",
   "nbconvert_exporter": "python",
   "pygments_lexer": "ipython3",
   "version": "3.8.3"
  }
 },
 "nbformat": 4,
 "nbformat_minor": 4
}
