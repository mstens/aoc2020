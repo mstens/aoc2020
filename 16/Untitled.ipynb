{
 "cells": [
  {
   "cell_type": "code",
   "execution_count": 234,
   "metadata": {},
   "outputs": [],
   "source": [
    "import math\n",
    "class Range:\n",
    "    def __init__(self, arr):\n",
    "        self.ranges = sorted(arr)\n",
    "    def __contains__(self, num):\n",
    "        return any(m <= num <= M for m, M in self.ranges)"
   ]
  },
  {
   "cell_type": "code",
   "execution_count": 247,
   "metadata": {},
   "outputs": [],
   "source": [
    "with open(\"day16-1.txt\", \"r\") as f:\n",
    "    data = f.read().split(\"\\n\\n\")\n",
    "my_tick = [int(a) for a in data[1].split(\"\\n\")[1].split(\",\")]\n",
    "nticks = [[int(n) for n in t.split(\",\")] for t in data[2].split(\"\\n\")[1:]]\n",
    "fields = [s.split(\": \") for s in data[0].split(\"\\n\")]\n",
    "names = [s[0] for s in fields]\n",
    "ranges = [s[1].split(\" or \") for s in fields]"
   ]
  },
  {
   "cell_type": "code",
   "execution_count": 213,
   "metadata": {},
   "outputs": [],
   "source": [
    "r = set()"
   ]
  },
  {
   "cell_type": "code",
   "execution_count": 214,
   "metadata": {},
   "outputs": [
    {
     "data": {
      "text/plain": [
       "26988"
      ]
     },
     "execution_count": 214,
     "metadata": {},
     "output_type": "execute_result"
    }
   ],
   "source": [
    "sum([n for t in nticks for n in t if not any([m <= n <= M for m, M in r.items()])])"
   ]
  },
  {
   "cell_type": "code",
   "execution_count": 215,
   "metadata": {},
   "outputs": [],
   "source": [
    "nticks = [t for t in nticks if all([any([m <= n <= M for m, M in r.items()])for n in t])]"
   ]
  },
  {
   "cell_type": "code",
   "execution_count": 221,
   "metadata": {},
   "outputs": [],
   "source": [
    "r = dict()\n",
    "for r_, n in zip(ranges, names):\n",
    "    r1, r2 = r_\n",
    "    r1 = [int(a) for a in r1.split(\"-\")]\n",
    "    r2 = [int(b) for b in r2.split(\"-\")]\n",
    "    r[n] = [r1, r2]"
   ]
  },
  {
   "cell_type": "code",
   "execution_count": 219,
   "metadata": {},
   "outputs": [],
   "source": [
    "poss = {k: [] for k in r.keys()}\n",
    "poss_i = {i: [] for i in range(len(nticks[0]))}\n",
    "for k in poss:\n",
    "    r1, r2 = r[k]\n",
    "    for i in range(len(nticks[0])):\n",
    "        if all([r1[0]<=t[i]<=r1[1] or r2[0]<=t[i]<=r2[1] for t in nticks]):\n",
    "            poss[k].append(i)\n",
    "            poss_i[i].append(k)"
   ]
  },
  {
   "cell_type": "code",
   "execution_count": 220,
   "metadata": {},
   "outputs": [],
   "source": [
    "tlen = len(nticks[0])\n",
    "for i, v in poss_i.items():\n",
    "    if len(v)==1:\n",
    "        poss[v[0]] = [i]\n",
    "        for k in poss:\n",
    "            if k == v[0]: continue\n",
    "            poss[k] = [j for j in poss[k] if j != i]\n",
    "            \n",
    "for k, v in poss.items():\n",
    "    if len(v) == 1:\n",
    "        poss_i[v[0]] = [k]\n",
    "        for i in poss_i:\n",
    "            if i == v[0]: continue\n",
    "            poss_i[i] = [j for j in poss_i[i] if i != k]"
   ]
  },
  {
   "cell_type": "code",
   "execution_count": 245,
   "metadata": {},
   "outputs": [
    {
     "name": "stdout",
     "output_type": "stream",
     "text": [
      "127\n"
     ]
    }
   ],
   "source": [
    "idx = [v[0] for k, v in poss.items() if \"departure\" in k]\n",
    "print(math.prod([n for i, n in enumerate(my_tick) if i in idx]))"
   ]
  }
 ],
 "metadata": {
  "kernelspec": {
   "display_name": "Python 3",
   "language": "python",
   "name": "python3"
  },
  "language_info": {
   "codemirror_mode": {
    "name": "ipython",
    "version": 3
   },
   "file_extension": ".py",
   "mimetype": "text/x-python",
   "name": "python",
   "nbconvert_exporter": "python",
   "pygments_lexer": "ipython3",
   "version": "3.8.3"
  }
 },
 "nbformat": 4,
 "nbformat_minor": 4
}
