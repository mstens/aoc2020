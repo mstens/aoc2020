{
 "cells": [
  {
   "cell_type": "code",
   "execution_count": 1,
   "metadata": {},
   "outputs": [],
   "source": [
    "import numpy as np\n",
    "with open(\"day9-1.txt\", \"r\") as f:\n",
    "    data = [int(a) for a in f.read().split(\"\\n\")]"
   ]
  },
  {
   "cell_type": "code",
   "execution_count": 2,
   "metadata": {},
   "outputs": [
    {
     "name": "stdout",
     "output_type": "stream",
     "text": [
      "Part 1: 1124361034\n",
      "Part 2: 129444555\n"
     ]
    }
   ],
   "source": [
    "for i, x in enumerate(data[25:], 25):\n",
    "    prev = set(data[i-25:i])\n",
    "    if not any((x-y in prev and x-y != y for y in prev)):\n",
    "        cs = list(np.cumsum(data))\n",
    "        css = set(cs)\n",
    "        for s in cs:\n",
    "            if x + s in css:\n",
    "                i1, i2 = cs.index(s)+1, cs.index(x+s)+1\n",
    "                if i2 - i1 > 1:\n",
    "                    print(f\"Part 1: {x}\\nPart 2: {max(data[i1: i2])+min(data[i1: i2])}\")\n",
    "                    break\n",
    "        break"
   ]
  }
 ],
 "metadata": {
  "kernelspec": {
   "display_name": "Python 3",
   "language": "python",
   "name": "python3"
  },
  "language_info": {
   "codemirror_mode": {
    "name": "ipython",
    "version": 3
   },
   "file_extension": ".py",
   "mimetype": "text/x-python",
   "name": "python",
   "nbconvert_exporter": "python",
   "pygments_lexer": "ipython3",
   "version": "3.8.3"
  }
 },
 "nbformat": 4,
 "nbformat_minor": 4
}
