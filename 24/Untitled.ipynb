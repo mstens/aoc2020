{
 "cells": [
  {
   "cell_type": "code",
   "execution_count": 1,
   "metadata": {},
   "outputs": [],
   "source": [
    "import numpy as np\n",
    "from collections import defaultdict\n",
    "import re"
   ]
  },
  {
   "cell_type": "code",
   "execution_count": 2,
   "metadata": {},
   "outputs": [],
   "source": [
    "with open(\"day24-1.txt\", \"r\") as f:\n",
    "    data = f.read().split(\"\\n\")"
   ]
  },
  {
   "cell_type": "code",
   "execution_count": 3,
   "metadata": {},
   "outputs": [],
   "source": [
    "steps = {\n",
    "    \"e\": np.array((2,0),dtype=int),\n",
    "    \"se\": np.array((1,-1),dtype=int),\n",
    "    \"sw\": np.array((-1,-1),dtype=int),\n",
    "    \"w\": np.array((-2,0),dtype=int),\n",
    "    \"nw\": np.array((-1,1),dtype=int),\n",
    "    \"ne\": np.array((1,1),dtype=int)\n",
    "}"
   ]
  },
  {
   "cell_type": "code",
   "execution_count": 4,
   "metadata": {},
   "outputs": [
    {
     "data": {
      "text/plain": [
       "512"
      ]
     },
     "execution_count": 4,
     "metadata": {},
     "output_type": "execute_result"
    }
   ],
   "source": [
    "black_tiles = set()\n",
    "for line in data:\n",
    "    black_tiles ^= {tuple(sum(steps[d] for d in re.findall(\"|\".join(steps.keys()), line)))}\n",
    "    \n",
    "len(black_tiles)"
   ]
  },
  {
   "cell_type": "code",
   "execution_count": 5,
   "metadata": {},
   "outputs": [
    {
     "data": {
      "text/plain": [
       "4120"
      ]
     },
     "execution_count": 5,
     "metadata": {},
     "output_type": "execute_result"
    }
   ],
   "source": [
    "for _ in range(100):\n",
    "    neighbours = defaultdict(int)\n",
    "    for b in black_tiles:\n",
    "        for s in steps.values():\n",
    "            neighbours[tuple(s+b)] += 1\n",
    "    black_tiles = {k for k, v in neighbours.items() if v==2 or (k in black_tiles and v==1)}\n",
    "\n",
    "len(black_tiles)"
   ]
  },
  {
   "cell_type": "code",
   "execution_count": 6,
   "metadata": {},
   "outputs": [],
   "source": [
    "# old solution of part 1\n",
    "# roots of unity\n",
    "w = np.array((np.cos(2*np.pi/6), np.sin(2*np.pi/6)))\n",
    "w2 = np.array((np.cos(2*np.pi/3), np.sin(2*np.pi/3)))\n",
    "\n",
    "step = {\n",
    "    \"e\": np.array((1,0)),\n",
    "    \"se\": -w2,\n",
    "    \"sw\": -w,\n",
    "    \"w\": np.array((-1,0)),\n",
    "    \"nw\": w2,\n",
    "    \"ne\": w\n",
    "}"
   ]
  },
  {
   "cell_type": "code",
   "execution_count": 7,
   "metadata": {},
   "outputs": [
    {
     "data": {
      "text/plain": [
       "512"
      ]
     },
     "execution_count": 7,
     "metadata": {},
     "output_type": "execute_result"
    }
   ],
   "source": [
    "cols = dict()\n",
    "pos = np.array((0,0),dtype=float)\n",
    "for s in data:\n",
    "    pos = np.array((0,0),dtype=float)\n",
    "    current = \"\"\n",
    "    for c in s:\n",
    "        current += c\n",
    "        if current in step:\n",
    "            pos += step[current]\n",
    "            current = \"\"\n",
    "    key = tuple(pos)\n",
    "    for k in cols:\n",
    "        if sum((pos-k)**2) < 10**(-2):\n",
    "            key = k\n",
    "            break\n",
    "    if key in cols:\n",
    "        cols[key] = (cols[key]+1)%2\n",
    "    else:\n",
    "        cols[key] = 1\n",
    "sum(v for v in cols.values())"
   ]
  }
 ],
 "metadata": {
  "kernelspec": {
   "display_name": "Python 3",
   "language": "python",
   "name": "python3"
  },
  "language_info": {
   "codemirror_mode": {
    "name": "ipython",
    "version": 3
   },
   "file_extension": ".py",
   "mimetype": "text/x-python",
   "name": "python",
   "nbconvert_exporter": "python",
   "pygments_lexer": "ipython3",
   "version": "3.8.3"
  }
 },
 "nbformat": 4,
 "nbformat_minor": 4
}
